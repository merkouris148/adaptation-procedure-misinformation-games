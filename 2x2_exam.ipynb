{
 "cells": [
  {
   "cell_type": "markdown",
   "metadata": {},
   "source": [
    "# Misinformation Games Adaptation Procedure\n",
    "An extensive example for the Adaptation Procedure programme on a 2x2 misinformation game."
   ]
  },
  {
   "cell_type": "code",
   "execution_count": 31,
   "metadata": {
    "scrolled": false,
    "slideshow": {
     "slide_type": "slide"
    }
   },
   "outputs": [],
   "source": [
    "## Initialization Block\n",
    "# Libraries\n",
    "import adaptation_procedure as ap\n",
    "\n",
    "# Example File Name\n",
    "exam_file_name = \"../input_data/2x2_mg_example.mg\"\n",
    "\n",
    "# Initialize Adaptation Procedure\n",
    "adapt_proc = ap.AdaptationProcedure()\n",
    "\n",
    "# Initialize from File\n",
    "f = open(exam_file_name)\n",
    "file_fmt = f.read()\n",
    "f.close()\n",
    "\n",
    "adapt_proc.root_from_file(file_fmt)"
   ]
  },
  {
   "cell_type": "code",
   "execution_count": 32,
   "metadata": {
    "scrolled": true,
    "slideshow": {
     "slide_type": "slide"
    }
   },
   "outputs": [
    {
     "name": "stdout",
     "output_type": "stream",
     "text": [
      "# Misinformation Game: 0\n",
      "# NMEs: [(2, 1), (2, 2)]\n",
      "# num players\n",
      "2\n",
      "\n",
      "# strategies\n",
      "2 2 \n",
      "\n",
      "# Game id: 0\n",
      "# Nash Equilibria: [((0.5, 0.5), (0.5, 0.5))]\n",
      "1 -1 \n",
      "-1 1 \n",
      "-1 1 \n",
      "1 -1 \n",
      "\n",
      "\n",
      "# Game id: 1\n",
      "# Nash Equilibria: [((0.0, 1.0), (0.0, 1.0))]\n",
      "2 2 \n",
      "3 0 \n",
      "0 3 \n",
      "1 1 \n",
      "\n",
      "\n",
      "# Game id: 2\n",
      "# Nash Equilibria: [((0.666667, 0.333333), (0.333333, 0.666667)), ((1.0, 0.0), (1.0, 0.0)), ((0.0, 1.0), (0.0, 1.0))]\n",
      "2 1 \n",
      "0 0 \n",
      "0 0 \n",
      "1 2 \n",
      "\n",
      "\n",
      "\n"
     ]
    }
   ],
   "source": [
    "## Print Root\n",
    "root_file_fmt = adapt_proc.root_export()\n",
    "print(root_file_fmt)"
   ]
  },
  {
   "cell_type": "markdown",
   "metadata": {},
   "source": [
    "## Input Misinformation Game\n",
    "The Input File represents a 2x2 Misinformation Game, constisted of 3 NFG. Let $\\mathcal{M} = \\langle F, G, H \\rangle$ be the misinformation game, we have:\n",
    "\n",
    "$$\n",
    "\\begin{align*}\n",
    "    F_{I} =\n",
    "    \\begin{pmatrix}\n",
    "        1 & -1\\\\\n",
    "        -1 & 1\n",
    "    \\end{pmatrix}\n",
    "    \\quad\n",
    "    F_{II} =\n",
    "    \\begin{pmatrix}\n",
    "        -1 & 1\\\\\n",
    "        1 & -1\n",
    "    \\end{pmatrix}\n",
    "\\end{align*}\n",
    "$$\n",
    "$$\n",
    "\\begin{align*}\n",
    "    G_{I} =\n",
    "    \\begin{pmatrix}\n",
    "        2 & 0\\\\\n",
    "        3 & 1\n",
    "    \\end{pmatrix}\n",
    "    \\quad\n",
    "    G_{II} =\n",
    "    \\begin{pmatrix}\n",
    "        2 & 3\\\\\n",
    "        0 & 1\n",
    "    \\end{pmatrix}\n",
    "\\end{align*}\n",
    "$$\n",
    "$$\n",
    "\\begin{align*}\n",
    "    H_{I} =\n",
    "    \\begin{pmatrix}\n",
    "        2 & 0\\\\\n",
    "        0 & 1\n",
    "    \\end{pmatrix}\n",
    "    \\quad\n",
    "    H_{II} =\n",
    "    \\begin{pmatrix}\n",
    "        1 & 0\\\\\n",
    "        0 & 2\n",
    "    \\end{pmatrix}\n",
    "\\end{align*}\n",
    "$$\n",
    "\n",
    "Where the Nash Equilibria for each NFG are:\n",
    "\n",
    "$$\n",
    "    \\mathtt{NE}(F) = \\left\\{ \\left( \\left( \\frac{1}{2}, \\frac{1}{2} \\right) \\left( \\frac{1}{2}, \\frac{1}{2} \\right) \\right) \\right\\}\n",
    "$$\n",
    "$$\n",
    "    \\mathtt{NE}(G) = \\left\\{ \\left( \\left( 0, 1 \\right) \\left( 0, 1 \\right) \\right) \\right\\}\n",
    "$$\n",
    "$$\n",
    "    \\mathtt{NE}(H) = \\left\\{ \\left( \\left( \\frac{2}{3}, \\frac{1}{3} \\right) \\left( \\frac{1}{3}, \\frac{2}{3} \\right) \\right), ~((1, 0), (1, 0)), ~((0, 1), (0, 1)) \\right\\}\n",
    "$$\n",
    "\n",
    "Therefore, the Natural Misinformed Equilibria (NME) for this misinformation game, are:\n",
    "\n",
    "$$\n",
    "    \\mathtt{NME}(\\mathcal{M}) = \\{(2, 1), (2, 2)\\}\n",
    "$$"
   ]
  },
  {
   "cell_type": "code",
   "execution_count": 33,
   "metadata": {
    "scrolled": false,
    "slideshow": {
     "slide_type": "slide"
    }
   },
   "outputs": [
    {
     "name": "stdout",
     "output_type": "stream",
     "text": [
      "+---------------------------------------\n",
      "| Number of players: 2\n",
      "| Strategies Vector: [2, 2]\n",
      "+---------------------------------------\n",
      "| CPU time: 0.10179634000000015(s)\n",
      "| Number of nodes: 26\n",
      "| Number of unique MGs: 6\n",
      "| Number of leaves: 17\n",
      "| Number of Unique Stable Games: 4\n",
      "+---------------------------------------\n"
     ]
    }
   ],
   "source": [
    "## Adaptation Procedure\n",
    "adapt_proc.adaptation_procedure()\n",
    "adapt_proc.print_stats()"
   ]
  },
  {
   "cell_type": "markdown",
   "metadata": {},
   "source": [
    "Since our MG is consisted of 3 2x2 NFG, a rough upper bound to the number of unique MGs that could be produced is $2^{2^2} = 16$, as the number of the subsets of strategy profiles that can be updated by the real game F. Yet for this particular input game, only 6 unique MGs are produced. On the other hand, we observe that we arrive to the same MG through many different routes, hence the total number of nodes is 26."
   ]
  },
  {
   "cell_type": "code",
   "execution_count": 34,
   "metadata": {
    "slideshow": {
     "slide_type": "slide"
    }
   },
   "outputs": [
    {
     "name": "stdout",
     "output_type": "stream",
     "text": [
      "MG_3: ((2, 1), (2, 2))\n",
      "MG_5: ((1, 1), (1, 2), (2, 1), (2, 2))\n",
      "MG_4: ((1, 1), (2, 1), (2, 2))\n",
      "MG_1: ((2, 1),)\n"
     ]
    }
   ],
   "source": [
    "## Print Stable Set\n",
    "adapt_proc.print_stable_set()"
   ]
  },
  {
   "cell_type": "markdown",
   "metadata": {},
   "source": [
    "## Stable Set & Leafs\n",
    "As we can see, the cardinality of the stable set is 4. Let $\\mathcal{M}_{p}$ be a misinformation game in the above adaptation procedure and $\\mathtt{NME}(\\mathcal{M}_{p})$ be the set o NMEs of $\\mathcal{M}_{p}$. Also, let\n",
    "\n",
    "$$\n",
    "\\mathcal{M}_{c} \\gets \\mathtt{adaptation\\_substep}(\\mathcal{M}_{p}, nme)\n",
    "$$\n",
    "\n",
    "be a child of $\\mathcal{M}_{p}$, for some $nme \\in \\mathtt{NME}(\\mathcal{M}_{p})$. The $\\mathcal{M}_{c}$ will be a *leaf* iff,\n",
    "\n",
    "$$\n",
    "\\mathcal{M}_{c} = \\mathcal{M}_{p}\n",
    "$$\n",
    "\n",
    "This is beacause, in all subsequent steps of the adaptation procedure, $\\mathcal{M}_{c}$ will produce exactly the same MGs as $\\mathcal{M}_{p}$. Therefore, without loss of generality, we may stop considering $\\mathcal{M}_{c}$.\n",
    "\n",
    "This results in $\\mathcal{M}_{c}$ being a *leaf*. The *Stable Set* is constisted of all the *unique* MGs, that are leafs.\n",
    "\n",
    "Let $\\mathcal{M}_{s}$, be a misinformation game that is in the *stable set* $S$ of some adaptation procedure. Let $\\mathtt{NME}(\\mathcal{M}_{s})$ be the set of the natural misinformed equilibria of $\\mathcal{M}_{s}$. We define the set of all MGs produced by $\\mathcal{M}_{s}$ as follows,\n",
    "\n",
    "$$\n",
    "\\mathtt{adaptation\\_step}(\\mathcal{M}_{s}) = \\{ \\mathcal{M} \\mid \\mathcal{M} \\gets \\mathtt{adaptation\\_substep}(\\mathcal{M}_{s}, nme), ~~ nme \\in \\mathtt{NME}(\\mathcal{M}_{s})\\}\n",
    "$$\n",
    "\n",
    "Note that the following holds,\n",
    "\n",
    "$$\n",
    "\\mathtt{adaptation\\_step}(\\mathcal{M}_{s}) \\cup \\{\\mathcal{M}_{s}\\} \\subseteq S\n",
    "$$\n",
    "\n",
    "For all other MGs $\\mathcal{M}$ of the adaptation procedure holds that,\n",
    "\n",
    "$$\n",
    "\\mathtt{adaptation\\_step}(\\mathcal{M}) \\subseteq S\n",
    "$$\n",
    "\n",
    "but not necesserly $\\mathcal{M} \\in S$."
   ]
  },
  {
   "cell_type": "code",
   "execution_count": 35,
   "metadata": {
    "scrolled": true,
    "slideshow": {
     "slide_type": "slide"
    }
   },
   "outputs": [
    {
     "name": "stdout",
     "output_type": "stream",
     "text": [
      "N_0, MG_0\n",
      "├── N_00, MG_1\n",
      "│   ├── N_000, MG_1\n",
      "│   └── N_001, MG_3\n",
      "│       ├── N_0010, MG_4\n",
      "│       │   ├── N_00100, MG_4\n",
      "│       │   ├── N_00101, MG_4\n",
      "│       │   ├── N_00102, MG_5\n",
      "│       │   │   ├── N_001020, MG_5\n",
      "│       │   │   ├── N_001021, MG_5\n",
      "│       │   │   ├── N_001022, MG_5\n",
      "│       │   │   └── N_001023, MG_5\n",
      "│       │   └── N_00103, MG_4\n",
      "│       └── N_0011, MG_3\n",
      "└── N_01, MG_2\n",
      "    └── N_010, MG_3\n",
      "        ├── N_0100, MG_4\n",
      "        │   ├── N_01000, MG_4\n",
      "        │   ├── N_01001, MG_4\n",
      "        │   ├── N_01002, MG_5\n",
      "        │   │   ├── N_010020, MG_5\n",
      "        │   │   ├── N_010021, MG_5\n",
      "        │   │   ├── N_010022, MG_5\n",
      "        │   │   └── N_010023, MG_5\n",
      "        │   └── N_01003, MG_4\n",
      "        └── N_0101, MG_3\n"
     ]
    }
   ],
   "source": [
    "## Print Tree\n",
    "adapt_proc.print_tree()"
   ]
  },
  {
   "attachments": {
    "example2x2-jupyter.png": {
     "image/png": "[encoded data removed]"
    }
   },
   "cell_type": "markdown",
   "metadata": {},
   "source": [
    "## Adaptation Tree\n",
    "Let us focus on a section of the above tree, depicted below.\n",
    "\n",
    "![example2x2-jupyter.png](attachment:example2x2-jupyter.png)\n",
    "\n",
    "We have that,\n",
    "$$\n",
    " mg1 \\gets \\mathtt{adaptation\\_substep}(mg0, (2, 1))\n",
    "$$\n",
    "Obviously, when we apply the the same nme in mg1, we get the same MG,\n",
    "$$\n",
    "mg1 = \\mathtt{adaptation\\_substep}(mg1, (2, 1))\n",
    "$$\n",
    "On the other hand, we have that,\n",
    "$$\n",
    " mg2 \\gets \\mathtt{adaptation\\_substep}(mg0, (2, 2))\n",
    "$$"
   ]
  },
  {
   "cell_type": "code",
   "execution_count": 36,
   "metadata": {
    "scrolled": true,
    "slideshow": {
     "slide_type": "slide"
    }
   },
   "outputs": [
    {
     "name": "stdout",
     "output_type": "stream",
     "text": [
      "| MG id: 0\n",
      "| Natural Misinformed Equilibria: {1: [2], 2: [1, 2]}\n",
      "| NMEs list: [(2, 1), (2, 2)]\n",
      "| Unique Key: ()\n",
      "\n",
      "| MG id: 1\n",
      "| Natural Misinformed Equilibria: {1: [2], 2: [1, 2]}\n",
      "| NMEs list: [(2, 1), (2, 2)]\n",
      "| Unique Key: ((2, 1),)\n",
      "\n",
      "| MG id: 2\n",
      "| Natural Misinformed Equilibria: {1: [2], 2: [1]}\n",
      "| NMEs list: [(2, 1)]\n",
      "| Unique Key: ((2, 2),)\n",
      "\n",
      "| MG id: 3\n",
      "| Natural Misinformed Equilibria: {1: [1, 2], 2: [1]}\n",
      "| NMEs list: [(1, 1), (2, 1)]\n",
      "| Unique Key: ((2, 1), (2, 2))\n",
      "\n",
      "| MG id: 4\n",
      "| Natural Misinformed Equilibria: {1: [1, 2], 2: [1, 2]}\n",
      "| NMEs list: [(1, 1), (2, 1), (1, 2), (2, 2)]\n",
      "| Unique Key: ((1, 1), (2, 1), (2, 2))\n",
      "\n",
      "| MG id: 5\n",
      "| Natural Misinformed Equilibria: {1: [1, 2], 2: [1, 2]}\n",
      "| NMEs list: [(1, 1), (2, 1), (1, 2), (2, 2)]\n",
      "| Unique Key: ((1, 1), (1, 2), (2, 1), (2, 2))\n",
      "\n"
     ]
    }
   ],
   "source": [
    "## Print Unique MGs\n",
    "adapt_proc.print_mg_pool()"
   ]
  },
  {
   "cell_type": "code",
   "execution_count": 37,
   "metadata": {},
   "outputs": [
    {
     "name": "stdout",
     "output_type": "stream",
     "text": [
      "# Unique Key: ((2, 1), (2, 2))\n",
      "# Misinformation Game: 3\n",
      "# NMEs: [(1, 1), (2, 1)]\n",
      "# num players\n",
      "2\n",
      "\n",
      "# strategies\n",
      "2 2 \n",
      "\n",
      "# Game id: 0\n",
      "# Nash Equilibria: [((0.5, 0.5), (0.5, 0.5))]\n",
      "1 -1 \n",
      "-1 1 \n",
      "-1 1 \n",
      "1 -1 \n",
      "\n",
      "\n",
      "# Game id: 1\n",
      "# Nash Equilibria: [((0.666667, 0.333333), (0.25, 0.75))]\n",
      "2 2 \n",
      "-1 1 \n",
      "0 3 \n",
      "1 -1 \n",
      "\n",
      "\n",
      "# Game id: 2\n",
      "# Nash Equilibria: [((1.0, 0.0), (1.0, 0.0))]\n",
      "2 1 \n",
      "-1 1 \n",
      "0 0 \n",
      "1 -1 \n",
      "\n",
      "\n",
      "\n",
      "\n",
      "# Unique Key: ((1, 1), (1, 2), (2, 1), (2, 2))\n",
      "# Misinformation Game: 5\n",
      "# NMEs: [(1, 1), (2, 1), (1, 2), (2, 2)]\n",
      "# num players\n",
      "2\n",
      "\n",
      "# strategies\n",
      "2 2 \n",
      "\n",
      "# Game id: 0\n",
      "# Nash Equilibria: [((0.5, 0.5), (0.5, 0.5))]\n",
      "1 -1 \n",
      "-1 1 \n",
      "-1 1 \n",
      "1 -1 \n",
      "\n",
      "\n",
      "# Game id: 1\n",
      "# Nash Equilibria: [((0.5, 0.5), (0.5, 0.5))]\n",
      "1 -1 \n",
      "-1 1 \n",
      "-1 1 \n",
      "1 -1 \n",
      "\n",
      "\n",
      "# Game id: 2\n",
      "# Nash Equilibria: [((0.5, 0.5), (0.5, 0.5))]\n",
      "1 -1 \n",
      "-1 1 \n",
      "-1 1 \n",
      "1 -1 \n",
      "\n",
      "\n",
      "\n",
      "\n",
      "# Unique Key: ((1, 1), (2, 1), (2, 2))\n",
      "# Misinformation Game: 4\n",
      "# NMEs: [(1, 1), (2, 1), (1, 2), (2, 2)]\n",
      "# num players\n",
      "2\n",
      "\n",
      "# strategies\n",
      "2 2 \n",
      "\n",
      "# Game id: 0\n",
      "# Nash Equilibria: [((0.5, 0.5), (0.5, 0.5))]\n",
      "1 -1 \n",
      "-1 1 \n",
      "-1 1 \n",
      "1 -1 \n",
      "\n",
      "\n",
      "# Game id: 1\n",
      "# Nash Equilibria: [((0.333333, 0.666667), (0.333333, 0.666667))]\n",
      "1 -1 \n",
      "-1 1 \n",
      "0 3 \n",
      "1 -1 \n",
      "\n",
      "\n",
      "# Game id: 2\n",
      "# Nash Equilibria: [((0.666667, 0.333333), (0.333333, 0.666667))]\n",
      "1 -1 \n",
      "-1 1 \n",
      "0 0 \n",
      "1 -1 \n",
      "\n",
      "\n",
      "\n",
      "\n",
      "# Unique Key: ((2, 1),)\n",
      "# Misinformation Game: 1\n",
      "# NMEs: [(2, 1), (2, 2)]\n",
      "# num players\n",
      "2\n",
      "\n",
      "# strategies\n",
      "2 2 \n",
      "\n",
      "# Game id: 0\n",
      "# Nash Equilibria: [((0.5, 0.5), (0.5, 0.5))]\n",
      "1 -1 \n",
      "-1 1 \n",
      "-1 1 \n",
      "1 -1 \n",
      "\n",
      "\n",
      "# Game id: 1\n",
      "# Nash Equilibria: [((0.0, 1.0), (0.0, 1.0))]\n",
      "2 2 \n",
      "-1 1 \n",
      "0 3 \n",
      "1 1 \n",
      "\n",
      "\n",
      "# Game id: 2\n",
      "# Nash Equilibria: [((1.0, 0.0), (1.0, 0.0)), ((0.5, 0.5), (0.25, 0.75)), ((0.0, 1.0), (0.0, 1.0))]\n",
      "2 1 \n",
      "-1 1 \n",
      "0 0 \n",
      "1 2 \n",
      "\n",
      "\n",
      "\n",
      "\n",
      "\n"
     ]
    }
   ],
   "source": [
    "## Print Stable Set Files\n",
    "str_stable_files = adapt_proc.str_export_stable_set()\n",
    "print(str_stable_files)"
   ]
  },
  {
   "cell_type": "markdown",
   "metadata": {},
   "source": [
    "## Adaptation Procedure for Stable MGs\n",
    "We run now the Adaptation Procedure for the MGs mg5 and mg1. We will observe that the behaviour of these games is quite different dispite the fact that both of the belong to the stable set of the mg0. This shows us that the *stability* of the stable set is a property of the set, not of the individual elements."
   ]
  },
  {
   "cell_type": "code",
   "execution_count": 38,
   "metadata": {},
   "outputs": [
    {
     "name": "stdout",
     "output_type": "stream",
     "text": [
      "# Misinformation Game: 5\n",
      "# NMEs: [(1, 1), (2, 1), (1, 2), (2, 2)]\n",
      "# num players\n",
      "2\n",
      "\n",
      "# strategies\n",
      "2 2 \n",
      "\n",
      "# Game id: 0\n",
      "# Nash Equilibria: [((0.5, 0.5), (0.5, 0.5))]\n",
      "1 -1 \n",
      "-1 1 \n",
      "-1 1 \n",
      "1 -1 \n",
      "\n",
      "\n",
      "# Game id: 1\n",
      "# Nash Equilibria: [((0.5, 0.5), (0.5, 0.5))]\n",
      "1 -1 \n",
      "-1 1 \n",
      "-1 1 \n",
      "1 -1 \n",
      "\n",
      "\n",
      "# Game id: 2\n",
      "# Nash Equilibria: [((0.5, 0.5), (0.5, 0.5))]\n",
      "1 -1 \n",
      "-1 1 \n",
      "-1 1 \n",
      "1 -1 \n",
      "\n",
      "\n",
      "\n"
     ]
    }
   ],
   "source": [
    "## Run the Adaptation Procedure for stable MGs\n",
    "# first for MG_5\n",
    "uniq_key_mg_5 = ((1, 1), (1, 2), (2, 1), (2, 2))\n",
    "mg_5_file_fmt = adapt_proc.str_export_mg_by_key(uniq_key_mg_5)\n",
    "print(mg_5_file_fmt)"
   ]
  },
  {
   "cell_type": "code",
   "execution_count": 40,
   "metadata": {},
   "outputs": [
    {
     "name": "stdout",
     "output_type": "stream",
     "text": [
      "N_0, MG_0\n",
      "├── N_00, MG_0\n",
      "├── N_01, MG_0\n",
      "├── N_02, MG_0\n",
      "└── N_03, MG_0\n"
     ]
    }
   ],
   "source": [
    "# Running the Adaptation Procedure\n",
    "adapt_proc_mg5 = ap.AdaptationProcedure()\n",
    "adapt_proc_mg5.root_from_file(mg_5_file_fmt)\n",
    "adapt_proc_mg5.adaptation_procedure(True)\n",
    "adapt_proc_mg5.print_tree()"
   ]
  },
  {
   "cell_type": "code",
   "execution_count": 42,
   "metadata": {},
   "outputs": [
    {
     "name": "stdout",
     "output_type": "stream",
     "text": [
      "| MG id: 0\n",
      "| Natural Misinformed Equilibria: {1: [1, 2], 2: [1, 2]}\n",
      "| NMEs list: [(1, 1), (2, 1), (1, 2), (2, 2)]\n",
      "| Unique Key: ()\n",
      "\n"
     ]
    }
   ],
   "source": [
    "# Show Stable Set\n",
    "adapt_proc_mg5.print_mg_pool()"
   ]
  },
  {
   "cell_type": "markdown",
   "metadata": {},
   "source": [
    "### MG_5 Results\n",
    "Observe that the following holds,\n",
    "$$\n",
    "\\{mg5\\} = \\mathtt{adaptation\\_step}(mg5)\n",
    "$$\n",
    "I.e. the stable set of mg5 is a singleton containing only itself."
   ]
  },
  {
   "cell_type": "code",
   "execution_count": 45,
   "metadata": {},
   "outputs": [
    {
     "name": "stdout",
     "output_type": "stream",
     "text": [
      "# Misinformation Game: 1\n",
      "# NMEs: [(2, 1), (2, 2)]\n",
      "# num players\n",
      "2\n",
      "\n",
      "# strategies\n",
      "2 2 \n",
      "\n",
      "# Game id: 0\n",
      "# Nash Equilibria: [((0.5, 0.5), (0.5, 0.5))]\n",
      "1 -1 \n",
      "-1 1 \n",
      "-1 1 \n",
      "1 -1 \n",
      "\n",
      "\n",
      "# Game id: 1\n",
      "# Nash Equilibria: [((0.0, 1.0), (0.0, 1.0))]\n",
      "2 2 \n",
      "-1 1 \n",
      "0 3 \n",
      "1 1 \n",
      "\n",
      "\n",
      "# Game id: 2\n",
      "# Nash Equilibria: [((1.0, 0.0), (1.0, 0.0)), ((0.5, 0.5), (0.25, 0.75)), ((0.0, 1.0), (0.0, 1.0))]\n",
      "2 1 \n",
      "-1 1 \n",
      "0 0 \n",
      "1 2 \n",
      "\n",
      "\n",
      "\n"
     ]
    }
   ],
   "source": [
    "# first for MG_1\n",
    "uniq_key_mg_1 = ((2, 1),)\n",
    "mg_1_file_fmt = adapt_proc.str_export_mg_by_key(uniq_key_mg_1)\n",
    "print(mg_1_file_fmt)"
   ]
  },
  {
   "cell_type": "code",
   "execution_count": 46,
   "metadata": {},
   "outputs": [
    {
     "name": "stdout",
     "output_type": "stream",
     "text": [
      "N_0, MG_0\n",
      "├── N_00, MG_0\n",
      "└── N_01, MG_1\n",
      "    ├── N_010, MG_2\n",
      "    │   ├── N_0100, MG_2\n",
      "    │   ├── N_0101, MG_2\n",
      "    │   ├── N_0102, MG_3\n",
      "    │   │   ├── N_01020, MG_3\n",
      "    │   │   ├── N_01021, MG_3\n",
      "    │   │   ├── N_01022, MG_3\n",
      "    │   │   └── N_01023, MG_3\n",
      "    │   └── N_0103, MG_2\n",
      "    └── N_011, MG_1\n"
     ]
    }
   ],
   "source": [
    "# Running the Adaptation Procedure\n",
    "adapt_proc_mg1 = ap.AdaptationProcedure()\n",
    "adapt_proc_mg1.root_from_file(mg_1_file_fmt)\n",
    "adapt_proc_mg1.adaptation_procedure(True)\n",
    "adapt_proc_mg1.print_tree()"
   ]
  },
  {
   "cell_type": "code",
   "execution_count": 48,
   "metadata": {},
   "outputs": [
    {
     "name": "stdout",
     "output_type": "stream",
     "text": [
      "| MG id: 0\n",
      "| Natural Misinformed Equilibria: {1: [2], 2: [1, 2]}\n",
      "| NMEs list: [(2, 1), (2, 2)]\n",
      "| Unique Key: ()\n",
      "\n",
      "| MG id: 1\n",
      "| Natural Misinformed Equilibria: {1: [1, 2], 2: [1]}\n",
      "| NMEs list: [(1, 1), (2, 1)]\n",
      "| Unique Key: ((2, 2),)\n",
      "\n",
      "| MG id: 2\n",
      "| Natural Misinformed Equilibria: {1: [1, 2], 2: [1, 2]}\n",
      "| NMEs list: [(1, 1), (2, 1), (1, 2), (2, 2)]\n",
      "| Unique Key: ((1, 1), (2, 2))\n",
      "\n",
      "| MG id: 3\n",
      "| Natural Misinformed Equilibria: {1: [1, 2], 2: [1, 2]}\n",
      "| NMEs list: [(1, 1), (2, 1), (1, 2), (2, 2)]\n",
      "| Unique Key: ((1, 1), (1, 2), (2, 2))\n",
      "\n"
     ]
    }
   ],
   "source": [
    "# Show Stable Set\n",
    "adapt_proc_mg1.print_mg_pool()"
   ]
  },
  {
   "cell_type": "markdown",
   "metadata": {},
   "source": [
    "### MG_1 Results\n",
    "On the other hand, this is not the case for mg1. We have,\n",
    "$$\n",
    "\\{𝑚𝑔5\\} \\subset 𝚊𝚍𝚊𝚙𝚝𝚊𝚝𝚒𝚘𝚗⎯𝚜𝚝𝚎𝚙(𝑚𝑔5)\n",
    "$$\n",
    "Despite that, in both cases the misinformation game generates itself and belongs to its respective stable set. Morover, observe that $mg5 \\in \\mathtt{stable\\_set}(mg1)$, see mg3 above."
   ]
  },
  {
   "cell_type": "code",
   "execution_count": 50,
   "metadata": {},
   "outputs": [
    {
     "name": "stdout",
     "output_type": "stream",
     "text": [
      "# Misinformation Game: 3\n",
      "# NMEs: [(1, 1), (2, 1), (1, 2), (2, 2)]\n",
      "# num players\n",
      "2\n",
      "\n",
      "# strategies\n",
      "2 2 \n",
      "\n",
      "# Game id: 0\n",
      "# Nash Equilibria: [((0.5, 0.5), (0.5, 0.5))]\n",
      "1 -1 \n",
      "-1 1 \n",
      "-1 1 \n",
      "1 -1 \n",
      "\n",
      "\n",
      "# Game id: 1\n",
      "# Nash Equilibria: [((0.5, 0.5), (0.5, 0.5))]\n",
      "1 -1 \n",
      "-1 1 \n",
      "-1 1 \n",
      "1 -1 \n",
      "\n",
      "\n",
      "# Game id: 2\n",
      "# Nash Equilibria: [((0.5, 0.5), (0.5, 0.5))]\n",
      "1 -1 \n",
      "-1 1 \n",
      "-1 1 \n",
      "1 -1 \n",
      "\n",
      "\n",
      "\n"
     ]
    }
   ],
   "source": [
    "uniq_key_mg_1_mg_3 = ((1, 1), (1, 2), (2, 2))\n",
    "mg_1_mg_3_file_fmt = adapt_proc_mg1.str_export_mg_by_key(uniq_key_mg_1_mg_3)\n",
    "print(mg_1_mg_3_file_fmt)"
   ]
  },
  {
   "cell_type": "code",
   "execution_count": null,
   "metadata": {},
   "outputs": [],
   "source": []
  }
 ],
 "metadata": {
  "kernelspec": {
   "display_name": "Python 3",
   "language": "python",
   "name": "python3"
  },
  "language_info": {
   "codemirror_mode": {
    "name": "ipython",
    "version": 3
   },
   "file_extension": ".py",
   "mimetype": "text/x-python",
   "name": "python",
   "nbconvert_exporter": "python",
   "pygments_lexer": "ipython3",
   "version": "3.8.10"
  }
 },
 "nbformat": 4,
 "nbformat_minor": 2
}
